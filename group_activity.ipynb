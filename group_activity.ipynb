{
 "cells": [
  {
   "cell_type": "code",
   "execution_count": 1,
   "id": "9a9b9aa1",
   "metadata": {},
   "outputs": [],
   "source": [
    "# Initial Set-Up\n",
    "\n",
    "from bs4 import BeautifulSoup as bs\n",
    "import requests\n",
    "import pandas as pd\n",
    "import time"
   ]
  },
  {
   "cell_type": "markdown",
   "id": "93f85c49",
   "metadata": {},
   "source": [
    "##### 1. Use Splinter and/or Beautiful Soup to scrape mercadolibre.com.mx or soundcloud.com or tripadvisor.com. You must programmatically click a link from the front page to go to another page of interest to you and then select at least 5 items from that page. The 5 items must be stored in a data structure that makes sense (dictionary, list, etc)."
   ]
  },
  {
   "cell_type": "code",
   "execution_count": 2,
   "id": "f1dc2cf0",
   "metadata": {},
   "outputs": [
    {
     "name": "stderr",
     "output_type": "stream",
     "text": [
      "\n",
      "\n",
      "====== WebDriver manager ======\n",
      "Current google-chrome version is 98.0.4758\n",
      "Get LATEST chromedriver version for 98.0.4758 google-chrome\n",
      "Trying to download new driver from https://chromedriver.storage.googleapis.com/98.0.4758.102/chromedriver_win32.zip\n",
      "Driver has been saved in cache [C:\\Users\\jmortensen\\.wdm\\drivers\\chromedriver\\win32\\98.0.4758.102]\n"
     ]
    }
   ],
   "source": [
    "from splinter import Browser\n",
    "from webdriver_manager.chrome import ChromeDriverManager\n",
    "\n",
    "executable_path = {'executable_path':ChromeDriverManager().install()}\n",
    "browser = Browser('chrome', **executable_path, headless=False)"
   ]
  },
  {
   "cell_type": "code",
   "execution_count": 5,
   "id": "dc07fa4d",
   "metadata": {},
   "outputs": [],
   "source": [
    "all_quotes=[]\n",
    "url = 'https://www.tripadvisor.com'\n",
    "browser.visit(url)\n",
    "\n",
    "browser.links.find_by_partial_text('Trips').click()\n",
    "time.sleep(1)\n",
    "\n",
    "browser.links.find_by_partial_text('Hotels').click()\n",
    "time.sleep(1)\n",
    "\n",
    "soup = bs(browser.html, 'html.parser')"
   ]
  },
  {
   "cell_type": "code",
   "execution_count": 6,
   "id": "5d9b8fd6",
   "metadata": {},
   "outputs": [
    {
     "data": {
      "text/html": [
       "<div>\n",
       "<style scoped>\n",
       "    .dataframe tbody tr th:only-of-type {\n",
       "        vertical-align: middle;\n",
       "    }\n",
       "\n",
       "    .dataframe tbody tr th {\n",
       "        vertical-align: top;\n",
       "    }\n",
       "\n",
       "    .dataframe thead th {\n",
       "        text-align: right;\n",
       "    }\n",
       "</style>\n",
       "<table border=\"1\" class=\"dataframe\">\n",
       "  <thead>\n",
       "    <tr style=\"text-align: right;\">\n",
       "      <th></th>\n",
       "      <th>Resort Name</th>\n",
       "      <th>Number of Reviews</th>\n",
       "      <th>Location</th>\n",
       "    </tr>\n",
       "  </thead>\n",
       "  <tbody>\n",
       "    <tr>\n",
       "      <th>0</th>\n",
       "      <td>Mandapa, a Ritz-Carlton Reserve</td>\n",
       "      <td>1,618 Reviews</td>\n",
       "      <td>Kedewatan, Indonesia</td>\n",
       "    </tr>\n",
       "    <tr>\n",
       "      <th>1</th>\n",
       "      <td>Serras Barcelona</td>\n",
       "      <td>1,671 Reviews</td>\n",
       "      <td>Barcelona, Spain</td>\n",
       "    </tr>\n",
       "    <tr>\n",
       "      <th>2</th>\n",
       "      <td>Aria Hotel Budapest by Library Hotel Collection</td>\n",
       "      <td>1,969 Reviews</td>\n",
       "      <td>Budapest, Hungary</td>\n",
       "    </tr>\n",
       "    <tr>\n",
       "      <th>3</th>\n",
       "      <td>Shinta Mani Shack</td>\n",
       "      <td>2,968 Reviews</td>\n",
       "      <td>Siem Reap, Cambodia</td>\n",
       "    </tr>\n",
       "    <tr>\n",
       "      <th>4</th>\n",
       "      <td>Ikos Olivia</td>\n",
       "      <td>3,756 Reviews</td>\n",
       "      <td>Gerakini, Greece</td>\n",
       "    </tr>\n",
       "    <tr>\n",
       "      <th>5</th>\n",
       "      <td>Excellence Playa Mujeres</td>\n",
       "      <td>22,837 Reviews</td>\n",
       "      <td>Playa Mujeres, Mexico</td>\n",
       "    </tr>\n",
       "    <tr>\n",
       "      <th>6</th>\n",
       "      <td>Tamassa Resort</td>\n",
       "      <td>8,004 Reviews</td>\n",
       "      <td>Mauritius</td>\n",
       "    </tr>\n",
       "    <tr>\n",
       "      <th>7</th>\n",
       "      <td>Kurumba Maldives</td>\n",
       "      <td>5,065 Reviews</td>\n",
       "      <td>Vihamanafushi</td>\n",
       "    </tr>\n",
       "  </tbody>\n",
       "</table>\n",
       "</div>"
      ],
      "text/plain": [
       "                                       Resort Name Number of Reviews  \\\n",
       "0                  Mandapa, a Ritz-Carlton Reserve    1,618 Reviews    \n",
       "1                                 Serras Barcelona    1,671 Reviews    \n",
       "2  Aria Hotel Budapest by Library Hotel Collection    1,969 Reviews    \n",
       "3                                Shinta Mani Shack    2,968 Reviews    \n",
       "4                                      Ikos Olivia    3,756 Reviews    \n",
       "5                         Excellence Playa Mujeres   22,837 Reviews    \n",
       "6                                   Tamassa Resort    8,004 Reviews    \n",
       "7                                 Kurumba Maldives    5,065 Reviews    \n",
       "\n",
       "                Location  \n",
       "0   Kedewatan, Indonesia  \n",
       "1       Barcelona, Spain  \n",
       "2      Budapest, Hungary  \n",
       "3    Siem Reap, Cambodia  \n",
       "4       Gerakini, Greece  \n",
       "5  Playa Mujeres, Mexico  \n",
       "6              Mauritius  \n",
       "7          Vihamanafushi  "
      ]
     },
     "execution_count": 6,
     "metadata": {},
     "output_type": "execute_result"
    }
   ],
   "source": [
    "inclusives = []\n",
    "\n",
    "all_inc = soup.find_all('div', class_='ui_shelf_item_detail')\n",
    "    \n",
    "for div in all_inc:\n",
    "    try:\n",
    "        #find the resort name save it as a variable\n",
    "        resort = div.find('a', class_=\"item poi_name ui_link\").text\n",
    "        #find the number of reviews\n",
    "        reviews = div.find('span', class_=\"reviewCount\").text\n",
    "        #find the number of reviews\n",
    "        location = div.find(class_=\"item tags\").text\n",
    "        all_inc_dict = {'Resort Name':resort,\n",
    "                        'Number of Reviews':reviews,\n",
    "                        'Location': location}\n",
    "        inclusives.append(all_inc_dict)\n",
    "    except AttributeError as e:\n",
    "        print(e)\n",
    "        \n",
    "inclusives_df = pd.DataFrame(inclusives)\n",
    "inclusives_df"
   ]
  },
  {
   "cell_type": "markdown",
   "id": "a3099c92",
   "metadata": {},
   "source": [
    "##### 2. Share with your group how web scraping worked on the website and link you chose.Compare it with others. List the site you chose and two observations about parsing the website. Indicate if this was the same or different for the sites chosen by others."
   ]
  },
  {
   "cell_type": "markdown",
   "id": "6aaacc39",
   "metadata": {},
   "source": [
    "I scraped the tripadvisor.com website. To get to the more interesting information, I had to click through two links from the main page.  I clicked through \"Trips\" and \"Hotels.\"  On the Hotels page, there are several categories.  I focused on the All-Inclusive section, adding the resort name, number of reviews, and location to a dictionary, and ultimately to a dataframe.\n",
    "\n",
    "I started with the class called 'ui_shelf_item_detail', but I wasn't able to zero in on the text that gave the resort name from that div.  The information was there, but not as text.  So I discovered the same information available to me if I could go into the 'a' (I think these are called 'anchors???') div and use that class to access the resort name with the text method.  \n",
    "\n",
    "It took me a while to find my way around the html code.  I had to expand several arrows to see further detail.   I began by using Ctrl-Shift-C, but it still took a lot more time searching into the code connected to each all-inclusive destination to find what they had in common so I could use it to parse out the information I sought.\n",
    "\n",
    "Everyone else in my group used soundcloud.com.  I think that tripadvisor.com was much more straightforward in terms of navigating through the html.  Soundcloud seems to have a lot more non-standard attribute names.  We worked together on soundcloud Wednesday night in class, and it was difficult to follow attributes like 'aria_label.'\n",
    "\n",
    "In general, it seems to me that it would better if websites shared some sort of universal section names in their code.  The search could be much more streamlined and efficient that way."
   ]
  },
  {
   "cell_type": "code",
   "execution_count": null,
   "id": "66453915",
   "metadata": {},
   "outputs": [],
   "source": []
  }
 ],
 "metadata": {
  "kernelspec": {
   "display_name": "Python 3 (ipykernel)",
   "language": "python",
   "name": "python3"
  },
  "language_info": {
   "codemirror_mode": {
    "name": "ipython",
    "version": 3
   },
   "file_extension": ".py",
   "mimetype": "text/x-python",
   "name": "python",
   "nbconvert_exporter": "python",
   "pygments_lexer": "ipython3",
   "version": "3.9.7"
  }
 },
 "nbformat": 4,
 "nbformat_minor": 5
}
