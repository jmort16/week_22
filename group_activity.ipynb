{
 "cells": [
  {
   "cell_type": "code",
   "execution_count": 3,
   "id": "9a9b9aa1",
   "metadata": {},
   "outputs": [],
   "source": [
    "# Initial Set-Up\n",
    "\n",
    "from bs4 import BeautifulSoup as bs\n",
    "import requests\n",
    "import pandas as pd\n",
    "from splinter import Browser\n",
    "from webdriver_manager.chrome import ChromeDriverManager\n",
    "import time"
   ]
  },
  {
   "cell_type": "markdown",
   "id": "93f85c49",
   "metadata": {},
   "source": [
    "##### 1. Use Splinter and/or Beautiful Soup to scrape mercadolibre.com.mx or soundcloud.com or tripadvisor.com. You must programmatically click a link from the front page to go to another page of interest to you and then select at least 5 items from that page. The 5 items must be stored in a data structure that makes sense (dictionary, list, etc)."
   ]
  },
  {
   "cell_type": "code",
   "execution_count": 4,
   "id": "f1dc2cf0",
   "metadata": {},
   "outputs": [
    {
     "name": "stderr",
     "output_type": "stream",
     "text": [
      "\n",
      "\n",
      "====== WebDriver manager ======\n",
      "Current google-chrome version is 98.0.4758\n",
      "Get LATEST chromedriver version for 98.0.4758 google-chrome\n",
      "Trying to download new driver from https://chromedriver.storage.googleapis.com/98.0.4758.102/chromedriver_win32.zip\n",
      "Driver has been saved in cache [C:\\Users\\jmortensen\\.wdm\\drivers\\chromedriver\\win32\\98.0.4758.102]\n"
     ]
    }
   ],
   "source": [
    "executable_path = {'executable_path':ChromeDriverManager().install()}\n",
    "\n",
    "browser = Browser('chrome', **executable_path, headless=False)\n",
    "\n",
    "url = 'https://soundcloud.com/discover/'\n",
    "\n",
    "browser.visit(url)\n"
   ]
  },
  {
   "cell_type": "markdown",
   "id": "a3099c92",
   "metadata": {},
   "source": [
    "##### 2. Share with your group how web scraping worked on the website and link you chose.Compare it with others. List the site you chose and two observations about parsing the website. Indicate if this was the same or different for the sites chosen by others."
   ]
  },
  {
   "cell_type": "code",
   "execution_count": null,
   "id": "b7d017cc",
   "metadata": {},
   "outputs": [],
   "source": []
  }
 ],
 "metadata": {
  "kernelspec": {
   "display_name": "Python 3 (ipykernel)",
   "language": "python",
   "name": "python3"
  },
  "language_info": {
   "codemirror_mode": {
    "name": "ipython",
    "version": 3
   },
   "file_extension": ".py",
   "mimetype": "text/x-python",
   "name": "python",
   "nbconvert_exporter": "python",
   "pygments_lexer": "ipython3",
   "version": "3.9.7"
  }
 },
 "nbformat": 4,
 "nbformat_minor": 5
}
